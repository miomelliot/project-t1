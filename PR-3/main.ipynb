{
 "cells": [
  {
   "cell_type": "code",
   "execution_count": null,
   "metadata": {
    "vscode": {
     "languageId": "bat"
    }
   },
   "outputs": [],
   "source": [
    "pip install pandas matplotlib"
   ]
  },
  {
   "cell_type": "code",
   "execution_count": null,
   "metadata": {},
   "outputs": [],
   "source": [
    "import matplotlib.pyplot as plt\n",
    "import pandas as pd"
   ]
  },
  {
   "cell_type": "code",
   "execution_count": null,
   "metadata": {},
   "outputs": [],
   "source": [
    "\n",
    "iris_df = pd.read_csv(\"iris.CSV\")"
   ]
  },
  {
   "cell_type": "code",
   "execution_count": null,
   "metadata": {},
   "outputs": [],
   "source": [
    "fig, ax = plt.subplots(figsize=(10, 6))\n",
    "iris_df.groupby(\"variety\").mean().T.plot(ax=ax)\n",
    "plt.title(\"Средние значения признаков по сортам ириса\")\n",
    "plt.xlabel(\"Признаки\")\n",
    "plt.ylabel(\"Среднее значение\")\n",
    "plt.grid(True)\n",
    "plt.legend(title=\"Сорта\")\n",
    "plt.show()"
   ]
  },
  {
   "cell_type": "code",
   "execution_count": null,
   "metadata": {},
   "outputs": [],
   "source": [
    "mean_sepal_length = iris_df.groupby('variety')['sepal_length'].mean()\n",
    "fig, ax = plt.subplots(figsize=(10, 6))\n",
    "mean_values = mean_sepal_length.values\n",
    "varieties = mean_sepal_length.index\n",
    "ax.plot(varieties, mean_sepal_length, marker='o', linestyle='-', color='red')\n",
    "plt.title(\"Средняя длина чашелистика по сортам ириса\")\n",
    "plt.xlabel(\"Сорт\")\n",
    "plt.ylabel(\"Средняя длина чашелистика\")\n",
    "plt.grid(True, color='blue')\n",
    "plt.show()"
   ]
  },
  {
   "cell_type": "code",
   "execution_count": null,
   "metadata": {},
   "outputs": [],
   "source": [
    "fig, ax = plt.subplots(figsize=(10, 6))\n",
    "iris_df.groupby('variety')['petal_width'].mean().plot(kind='bar', ax=ax, color='blue', rot=0)\n",
    "plt.title(\"Средняя ширина лепестка по сортам\")\n",
    "plt.xlabel(\"Сорт\")\n",
    "plt.ylabel(\"Средняя ширина лепестка\")\n",
    "plt.grid(True, color='red')\n",
    "plt.show()"
   ]
  },
  {
   "cell_type": "code",
   "execution_count": null,
   "metadata": {},
   "outputs": [],
   "source": [
    "iris_df['sepal_length_category'] = pd.cut(iris_df['sepal_length'], bins=4, labels=['Короткий', 'Средний', 'Длинный', 'Очень длинный'])\n",
    "category_distribution = pd.crosstab(iris_df['variety'], iris_df['sepal_length_category'])\n",
    "category_distribution.plot(kind='barh', stacked=True, figsize=(10, 6))\n",
    "plt.title(\"Распределение категорий длины чашелистика по сортам\")\n",
    "plt.xlabel(\"Количество\")\n",
    "plt.ylabel(\"Сорт\")\n",
    "plt.grid(True, axis='x')\n",
    "plt.show()"
   ]
  },
  {
   "cell_type": "code",
   "execution_count": null,
   "metadata": {},
   "outputs": [],
   "source": [
    "fig, ax = plt.subplots(figsize=(10, 6))\n",
    "mean_sepal_length = iris_df.groupby('variety')['sepal_length'].mean()\n",
    "std_sepal_length = iris_df.groupby('variety')['sepal_length'].std()\n",
    "mean_sepal_length.plot(kind='bar', yerr=std_sepal_length, ax=ax, color='red', capsize=4, rot=0)\n",
    "plt.title(\"Средняя длина чашелистика по сортам со стандартным отклонением\")\n",
    "plt.xlabel(\"Сорт\")\n",
    "plt.ylabel(\"Средняя длина чашелистика\")\n",
    "plt.grid(True, color='green')\n",
    "plt.show()"
   ]
  },
  {
   "cell_type": "code",
   "execution_count": null,
   "metadata": {},
   "outputs": [],
   "source": [
    "fig, ax = plt.subplots(figsize=(10, 6))\n",
    "mean_petal_length = iris_df.groupby('variety')['petal_length'].mean().sort_values(ascending=False)\n",
    "colors = ['red', 'black', 'green']\n",
    "mean_petal_length.plot(kind='bar', ax=ax, color=colors, rot=0)\n",
    "for i, v in enumerate(mean_petal_length):\n",
    "    ax.text(i, v + 0.05, f\"{v:.2f}\", ha='center')\n",
    "plt.title(\"Средняя длина лепестка по сортам\")\n",
    "plt.xlabel(\"Сорт\")\n",
    "plt.ylabel(\"Средняя длина лепестка\")\n",
    "plt.grid(True, color='red')\n",
    "plt.show()"
   ]
  },
  {
   "cell_type": "code",
   "execution_count": null,
   "metadata": {},
   "outputs": [],
   "source": [
    "fig, ax = plt.subplots(figsize=(10, 6))\n",
    "mean_values = iris_df.groupby('variety')['sepal_width'].mean().sort_values(ascending=False)\n",
    "mean_values.plot(kind='bar', ax=ax, color='blue', rot=0)\n",
    "for i, v in enumerate(mean_values):\n",
    "    ax.text(i, v + 0.02, f\"{v:.2f}\", ha='center')\n",
    "plt.title(\"Средняя ширина чашелистика по сортам\")\n",
    "plt.xlabel(\"Сорт\")\n",
    "plt.ylabel(\"Средняя ширина чашелистика\")\n",
    "plt.grid(True, color='red')\n",
    "plt.show()"
   ]
  }
 ],
 "metadata": {
  "kernelspec": {
   "display_name": ".venv",
   "language": "python",
   "name": "python3"
  },
  "language_info": {
   "codemirror_mode": {
    "name": "ipython",
    "version": 3
   },
   "file_extension": ".py",
   "mimetype": "text/x-python",
   "name": "python",
   "nbconvert_exporter": "python",
   "pygments_lexer": "ipython3",
   "version": "3.13.1"
  }
 },
 "nbformat": 4,
 "nbformat_minor": 2
}
